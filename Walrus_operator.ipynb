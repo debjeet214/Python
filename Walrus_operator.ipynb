{
  "nbformat": 4,
  "nbformat_minor": 0,
  "metadata": {
    "colab": {
      "provenance": [],
      "authorship_tag": "ABX9TyOajADIhK2qtA9UYfLKx/Qt",
      "include_colab_link": true
    },
    "kernelspec": {
      "name": "python3",
      "display_name": "Python 3"
    },
    "language_info": {
      "name": "python"
    }
  },
  "cells": [
    {
      "cell_type": "markdown",
      "metadata": {
        "id": "view-in-github",
        "colab_type": "text"
      },
      "source": [
        "<a href=\"https://colab.research.google.com/github/debjeet214/Python/blob/main/Walrus_operator.ipynb\" target=\"_parent\"><img src=\"https://colab.research.google.com/assets/colab-badge.svg\" alt=\"Open In Colab\"/></a>"
      ]
    },
    {
      "cell_type": "code",
      "execution_count": 5,
      "metadata": {
        "colab": {
          "base_uri": "https://localhost:8080/"
        },
        "id": "YFv237-jeYOA",
        "outputId": "7acb406f-7313-4a1b-830c-16d2e2c6e128"
      },
      "outputs": [
        {
          "output_type": "stream",
          "name": "stdout",
          "text": [
            "True\n",
            "False\n"
          ]
        }
      ],
      "source": [
        "# walrus operator :=\n",
        "\n",
        "# It is new to Python 3.8. it is an assignment expression aka walrus operator\n",
        "# It assigns values to variables as part of a larger expression.\n",
        "\n",
        "#The walrus operator allows us to assign a value to a variable and return that value, all in the same expression. Hence, it reduces two steps to a single step.\n",
        "\n",
        "# in usual case,\n",
        "happy = True      # first assign the variable\n",
        "print(happy)      # then print\n",
        "\n",
        "print(happy := False)  # walrus operator allows us to assign and print in the same line.\n",
        "\n",
        "\n"
      ]
    },
    {
      "cell_type": "code",
      "source": [
        "# example 2\n",
        "\n",
        "'''\n",
        " normal way\n",
        "'''\n",
        "# foods = list()\n",
        "# while True:\n",
        "#   food = input(\"What food do you like?: \")\n",
        "#   if food == \"quit\":\n",
        "#       break\n",
        "#   foods.append(food)\n",
        "\n",
        "# print(foods)\n",
        "\n",
        "'''\n",
        "reduce code using walrus operator\n",
        "'''\n",
        "foods = list()\n",
        "while (food := input(\"What food do you like?: \")) != \"quit\":\n",
        "    foods.append(food)\n",
        "\n",
        "print(foods)\n"
      ],
      "metadata": {
        "colab": {
          "base_uri": "https://localhost:8080/"
        },
        "id": "ns5FyGXIjK17",
        "outputId": "511754f9-8c94-4a42-b8dd-d0a421f9e382"
      },
      "execution_count": 12,
      "outputs": [
        {
          "output_type": "stream",
          "name": "stdout",
          "text": [
            "What food do you like?: ll\n",
            "What food do you like?: dd\n",
            "What food do you like?: ee\n",
            "What food do you like?: dr\n",
            "What food do you like?: md\n",
            "What food do you like?: quit\n",
            "['ll', 'dd', 'ee', 'dr', 'md']\n"
          ]
        }
      ]
    },
    {
      "cell_type": "code",
      "source": [
        "numbers = [1, 2, 3, 4, 5]\n",
        "\n",
        "while (n := len(numbers)) > 0:\n",
        "\tprint(numbers.pop())\n"
      ],
      "metadata": {
        "colab": {
          "base_uri": "https://localhost:8080/"
        },
        "id": "aqedHX9zlwVd",
        "outputId": "249284ef-6a20-427a-b31d-756e0d30266d"
      },
      "execution_count": 13,
      "outputs": [
        {
          "output_type": "stream",
          "name": "stdout",
          "text": [
            "5\n",
            "4\n",
            "3\n",
            "2\n",
            "1\n"
          ]
        }
      ]
    },
    {
      "cell_type": "code",
      "source": [
        "voting_count = list()\n",
        "while (n := len(voting_count)) < 10:\n",
        "\tvoting_count.append(n)\n",
        "\n",
        "print(voting_count)"
      ],
      "metadata": {
        "colab": {
          "base_uri": "https://localhost:8080/"
        },
        "id": "LGga9KNml4Ds",
        "outputId": "05fbb9a6-3727-40e0-ad40-b23bcc15111d"
      },
      "execution_count": 15,
      "outputs": [
        {
          "output_type": "stream",
          "name": "stdout",
          "text": [
            "[0, 1, 2, 3, 4, 5, 6, 7, 8, 9]\n"
          ]
        }
      ]
    }
  ]
}