{
  "nbformat": 4,
  "nbformat_minor": 0,
  "metadata": {
    "colab": {
      "provenance": [],
      "authorship_tag": "ABX9TyMgHdmn+VaMY0KU+PJCnfcG",
      "include_colab_link": true
    },
    "kernelspec": {
      "name": "python3",
      "display_name": "Python 3"
    },
    "language_info": {
      "name": "python"
    }
  },
  "cells": [
    {
      "cell_type": "markdown",
      "metadata": {
        "id": "view-in-github",
        "colab_type": "text"
      },
      "source": [
        "<a href=\"https://colab.research.google.com/github/debjeet214/Python/blob/main/if%2C%20elif%2C%20else%20operation.ipynb\" target=\"_parent\"><img src=\"https://colab.research.google.com/assets/colab-badge.svg\" alt=\"Open In Colab\"/></a>"
      ]
    },
    {
      "cell_type": "code",
      "execution_count": null,
      "metadata": {
        "id": "AoMOotl4Scuz"
      },
      "outputs": [],
      "source": []
    },
    {
      "cell_type": "code",
      "source": [
        "print(\"Finding Your competition level for drawing competition: \")\n",
        "print(\"\")\n",
        "\n",
        "age = int(input(\"Enter your age: \"))\n",
        "\n",
        "if age<12 and age>=5 :\n",
        "  print(\"you are in child category\")\n",
        "\n",
        "elif age<18 and age>=12:\n",
        "  print(\"You're in Teenage catagory\")\n",
        "\n",
        "elif age<24 and age>=18:\n",
        "  print(\"you can participate at intermediate level competition\")\n",
        "\n",
        "else :\n",
        "  print(\" You will have to compete at senior level competition:\")\n"
      ],
      "metadata": {
        "colab": {
          "base_uri": "https://localhost:8080/"
        },
        "id": "qfp1wul8O7lO",
        "outputId": "e12fe9a5-b6bc-4524-e738-c141c5adbe0d"
      },
      "execution_count": null,
      "outputs": [
        {
          "output_type": "stream",
          "name": "stdout",
          "text": [
            "Finding Your competition level for drawing competition: \n",
            "\n",
            "Enter your age: 21\n",
            "you can participate at intermediate competition\n"
          ]
        }
      ]
    }
  ]
}