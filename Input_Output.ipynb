{
  "nbformat": 4,
  "nbformat_minor": 0,
  "metadata": {
    "colab": {
      "provenance": [],
      "authorship_tag": "ABX9TyPON3QG25MED2FrbwBTaA0G",
      "include_colab_link": true
    },
    "kernelspec": {
      "name": "python3",
      "display_name": "Python 3"
    },
    "language_info": {
      "name": "python"
    }
  },
  "cells": [
    {
      "cell_type": "markdown",
      "metadata": {
        "id": "view-in-github",
        "colab_type": "text"
      },
      "source": [
        "<a href=\"https://colab.research.google.com/github/debjeet214/Python/blob/main/Input_Output.ipynb\" target=\"_parent\"><img src=\"https://colab.research.google.com/assets/colab-badge.svg\" alt=\"Open In Colab\"/></a>"
      ]
    },
    {
      "cell_type": "code",
      "execution_count": 4,
      "metadata": {
        "id": "i6kT8LyRV10m",
        "colab": {
          "base_uri": "https://localhost:8080/"
        },
        "outputId": "ed2c6fd2-ef55-4db5-968d-c5739ae7d6ac"
      },
      "outputs": [
        {
          "output_type": "stream",
          "name": "stdout",
          "text": [
            "Hi!! nice to meet you world.\n",
            "what is your name?Debjeet ghosh\n",
            "My name is Debjeet ghosh\n"
          ]
        }
      ],
      "source": [
        "print(\"Hi!! nice to meet you world.\")\n",
        "name = input(\"what is your name?\")\n",
        "print(\"My name is \"+ name)"
      ]
    }
  ]
}