{
  "nbformat": 4,
  "nbformat_minor": 0,
  "metadata": {
    "colab": {
      "provenance": [],
      "authorship_tag": "ABX9TyNKU+d9ojziQBmeBVP7BcAz",
      "include_colab_link": true
    },
    "kernelspec": {
      "name": "python3",
      "display_name": "Python 3"
    },
    "language_info": {
      "name": "python"
    }
  },
  "cells": [
    {
      "cell_type": "markdown",
      "metadata": {
        "id": "view-in-github",
        "colab_type": "text"
      },
      "source": [
        "<a href=\"https://colab.research.google.com/github/debjeet214/Python/blob/main/Exception_handling.ipynb\" target=\"_parent\"><img src=\"https://colab.research.google.com/assets/colab-badge.svg\" alt=\"Open In Colab\"/></a>"
      ]
    },
    {
      "source": [
        "class wordset:\n",
        "    def __init__(self):\n",
        "        self.words = set()\n",
        "\n",
        "# here the self is used to tell that the instance used here belongs to the same class\n",
        "# so removing it will bring errors.\n",
        "# but we can replace self with static name of the class itself.\n",
        "\n",
        "    def addtext(self, text):\n",
        "      text = self.replacetext(text)\n",
        "      for word in text.split():\n",
        "        self.words.add(word)\n",
        "\n",
        "    def replacetext(self, text):\n",
        "      text = text.replace(\".\", \"\").replace(\",\", \"\").replace(\"!\", \"\").replace(\"?\", \"\")\n",
        "      print(text.lower())\n",
        "      return text.lower() # Add this line to return the modified text\n",
        "\n",
        "wordsetter = wordset()\n",
        "wordsetter.addtext(\"Hello !! world\")"
      ],
      "cell_type": "code",
      "metadata": {
        "colab": {
          "base_uri": "https://localhost:8080/"
        },
        "id": "rDm8b_0BEnW2",
        "outputId": "44286012-a277-4176-c12d-73ec387ae1ea"
      },
      "execution_count": 11,
      "outputs": [
        {
          "output_type": "stream",
          "name": "stdout",
          "text": [
            "hello  world\n"
          ]
        }
      ]
    },
    {
      "cell_type": "code",
      "source": [
        "# normally we does it as try-except block testing\n",
        "def causeError():\n",
        "  try:\n",
        "    return 1/0\n",
        "  except Exception as e:  # here we are passing e as to get the error type\n",
        "    return e\n",
        "\n",
        "causeError()"
      ],
      "metadata": {
        "colab": {
          "base_uri": "https://localhost:8080/"
        },
        "id": "dO3dfUxFc5MU",
        "outputId": "e7459a68-bacd-431d-943d-7b652755a07e"
      },
      "execution_count": 21,
      "outputs": [
        {
          "output_type": "execute_result",
          "data": {
            "text/plain": [
              "ZeroDivisionError('division by zero')"
            ]
          },
          "metadata": {},
          "execution_count": 21
        }
      ]
    },
    {
      "cell_type": "code",
      "source": [
        "def causeError():\n",
        "  try:\n",
        "    return 1/0\n",
        "  except Exception:   # this way we can print the custom text instead of the error type\n",
        "    print(\"there is some error!\")\n",
        "\n",
        "causeError()"
      ],
      "metadata": {
        "colab": {
          "base_uri": "https://localhost:8080/"
        },
        "id": "CQnkxfHwhm9t",
        "outputId": "053535a9-e1d9-4fa2-abdc-eabe3b1bc74a"
      },
      "execution_count": 22,
      "outputs": [
        {
          "output_type": "stream",
          "name": "stdout",
          "text": [
            "there is some error!\n"
          ]
        }
      ]
    },
    {
      "cell_type": "code",
      "source": [
        "def causeError():\n",
        "  try:\n",
        "    return 1/0\n",
        "  except Exception:\n",
        "    print(\"there is some error!\")\n",
        "\n",
        "  finally:  # No matter if the except block is executed or not it will be always excecuted\n",
        "    print(\"this txt block will always execute\")\n",
        "causeError()"
      ],
      "metadata": {
        "colab": {
          "base_uri": "https://localhost:8080/"
        },
        "id": "R7p5zOFLh_Nm",
        "outputId": "0ff63859-d213-48f2-bea6-e5ebb5340163"
      },
      "execution_count": 23,
      "outputs": [
        {
          "output_type": "stream",
          "name": "stdout",
          "text": [
            "there is some error!\n",
            "this txt block will always execute\n"
          ]
        }
      ]
    },
    {
      "cell_type": "code",
      "source": [
        "import time  # this will record all the times in the specific program\n",
        "\n",
        "def causeError():\n",
        "  time.sleep(10)  # this will hault the code from execution\n",
        "  start = time.time()   # to get the strting time of the program\n",
        "  try:\n",
        "    return 1/0\n",
        "  except Exception:\n",
        "    print(\"there is some error!\")\n",
        "\n",
        "  finally:  # No matter if the except block is executed or not it will be always excecuted\n",
        "    print(\"this txt block will always execute\")\n",
        "    print(f\"it took time of {time.time() - start} seconds to execute\")   # this will give us the time taken to execute the final block\n",
        "causeError()"
      ],
      "metadata": {
        "colab": {
          "base_uri": "https://localhost:8080/"
        },
        "id": "BItrGHasicoK",
        "outputId": "270d8c72-1cba-4bd3-a675-4190cd45f0f4"
      },
      "execution_count": 28,
      "outputs": [
        {
          "output_type": "stream",
          "name": "stdout",
          "text": [
            "there is some error!\n",
            "this txt block will always execute\n",
            "it took time of 0.001087188720703125 seconds to execute\n"
          ]
        }
      ]
    },
    {
      "cell_type": "code",
      "source": [
        "def causeError():\n",
        "  try:\n",
        "    return 1 / 0\n",
        "\n",
        "  except TypeError:\n",
        "    print(\"this is a error due to unacceptable type mistakes\")\n",
        "  except ArithmeticError:\n",
        "    print(\"this is a error due to arithmetic mistakes\")\n",  
        "  except ZeroDivisionError:\n",
        "    print(\"this is a error due to dividing the number by zero\")\n",
        "  except SyntaxError:\n",
        "    print(\"there is some problem with the syntax!\")\n",
        "\n",
        "  finally:  # No matter if the except block is executed or not it will be always excecuted\n",
        "    print(\"this txt block will always execute\")\n",
        "\n",
        "causeError()"
      ],
      "metadata": {
        "colab": {
          "base_uri": "https://localhost:8080/"
        },
        "id": "BM89SpoDj6PJ",
        "outputId": "996d1fdb-dee8-4c46-a0d9-a8c57e67e5fe"
      },
      "execution_count": 34,
      "outputs": [
        {
          "output_type": "stream",
          "name": "stdout",
          "text": [
            "this is a error due to dividing the number by zero\n",
            "this txt block will always execute\n"
          ]
        }
      ]
    },
    {
      "cell_type": "code",
      "source": [
        "# using decorators to handle errors\n",
        "\n",
        "def handleError(func):\n",
        "  def inner_wrapper(*args):\n",
        "    try:\n",
        "      func(*args)\n",
        "\n",
        "    except TypeError:\n",
        "      print(\"this is a error due to unacceptable type mistakes\")\n",
        "    except ZeroDivisionError:\n",
        "      print(\"this is a error due to dividing the number by zero\")\n",
        "    except SyntaxError:\n",
        "      print(\"there is some problem with the syntax!\")\n",
        "\n",
        "  return inner_wrapper\n",
        "\n",
        "@handleError\n",
        "def causeError():\n",
        "  return 1/0\n",
        "\n",
        "causeError()\n",
        ""
      ],
      "metadata": {
        "colab": {
          "base_uri": "https://localhost:8080/"
        },
        "id": "A-Ep5citlfCl",
        "outputId": "f6981d98-ff54-4ff9-cef3-5c4894fb8f3a"
      },
      "execution_count": 36,
      "outputs": [
        {
          "output_type": "stream",
          "name": "stdout",
          "text": [
            "this is a error due to dividing the number by zero\n"
          ]
        }
      ]
    },
    {
      "cell_type": "code",
      "source": [
        "# raising the errors and finding the type depending on the error and decorators\n",
        "\n",
        "@handleError\n",
        "def raiseError(n):\n",
        "  if n == 0:\n",
        "    raise Exception\n",
        "  print(n)\n",
        "\n",
        "raiseError(99)"
      ],
      "metadata": {
        "colab": {
          "base_uri": "https://localhost:8080/"
        },
        "id": "0th7p-konFku",
        "outputId": "bbc7d816-d636-45c3-d4c4-9834401474f1"
      },
      "execution_count": 38,
      "outputs": [
        {
          "output_type": "stream",
          "name": "stdout",
          "text": [
            "99\n"
          ]
        }
      ]
    }
  ]
}
