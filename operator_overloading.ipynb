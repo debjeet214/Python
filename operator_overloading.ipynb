{
  "nbformat": 4,
  "nbformat_minor": 0,
  "metadata": {
    "colab": {
      "provenance": [],
      "authorship_tag": "ABX9TyOdOv28+k9keHEOZp/8FRqG",
      "include_colab_link": true
    },
    "kernelspec": {
      "name": "python3",
      "display_name": "Python 3"
    },
    "language_info": {
      "name": "python"
    }
  },
  "cells": [
    {
      "cell_type": "markdown",
      "metadata": {
        "id": "view-in-github",
        "colab_type": "text"
      },
      "source": [
        "<a href=\"https://colab.research.google.com/github/debjeet214/Python/blob/main/operator_overloading.ipynb\" target=\"_parent\"><img src=\"https://colab.research.google.com/assets/colab-badge.svg\" alt=\"Open In Colab\"/></a>"
      ]
    },
    {
      "cell_type": "code",
      "source": [
        "# OPerator overloading -- Operator Overloading is a feature in Python that allows developers to redefine the behavior of mathematical and comparison operators for custom data types. This means that you can use the standard mathematical operators (+, -, *, /, etc.) and comparison operators (>, <, ==, etc.) in your own classes, just as you would for built-in data types like int, float, and str.\n",
        "\n",
        "class vector:\n",
        "  def __init__(self, i, j, k):\n",
        "    self.i = i\n",
        "    self.j = j\n",
        "    self.k = k\n",
        "  def __str__(self):\n",
        "    return f\"{self.i}i + {self.j}j + {self.k}k\"\n",
        "\n",
        "# __add__ method is used here so that it can overload the + operator and get the expected outcome\n",
        "  def __add__(self, other):\n",
        "    return vector(self.i + other.i, self.j + other.j, self.k + other.k)\n",
        "\n",
        "  def __sub__(self, other):\n",
        "    return vector(self.i - other.i, self.j - other.j, self.k - other.k)\n",
        "\n",
        "\n",
        "v = vector(3, 7, 2)\n",
        "print(v)\n",
        "\n",
        "w = vector(1, 8, 6)\n",
        "print(w)\n",
        "\n",
        "print(\"Adding this two vector we get:\")\n",
        "# print(v+w)   # this will show error as first as python dont know how to use the + sign to add different vector components seperately\n",
        "\n",
        "print(v+w)   # after defining __Add__ method we can do it\n",
        "print(v-w)   # it will print the substracted value between two vectors\n",
        "\n",
        "# here is a problem that it removes the + from both or add + in both add and sub even if there is negative values, so to fix it we need to format."
      ],
      "metadata": {
        "colab": {
          "base_uri": "https://localhost:8080/"
        },
        "id": "Ch_YSQ2qsSLA",
        "outputId": "eeeb39b9-cf5d-4470-8985-1fe1b54a2afd"
      },
      "execution_count": 4,
      "outputs": [
        {
          "output_type": "stream",
          "name": "stdout",
          "text": [
            "3i 7j 2k\n",
            "1i 8j 6k\n",
            "Adding this two vector we get:\n",
            "4i 15j 8k\n",
            "2i -1j -4k\n"
          ]
        }
      ]
    },
    {
      "cell_type": "code",
      "source": [
        "class Vector:\n",
        "    def __init__(self, i, j, k):\n",
        "        self.i = i\n",
        "        self.j = j\n",
        "        self.k = k\n",
        "\n",
        "    def __str__(self):        # basic scenario\n",
        "        return f\"{self.i}i + {self.j}j + {self.k}k\"\n",
        "\n",
        "    def __add__(self, other): # it will perform operator overloading for +  (addition)\n",
        "        return Vector(self.i + other.i, self.j + other.j, self.k + other.k)\n",
        "\n",
        "    def __sub__(self, other): # it will perform operator overloading for -  (substraction)\n",
        "        result = Vector(self.i - other.i, self.j - other.j, self.k - other.k)\n",
        "        return result.format_subtraction()     # include the formatting\n",
        "\n",
        "    def format_subtraction(self):\n",
        "        formatted = []\n",
        "        formatted.append(f\"{self.i}i\")\n",
        "        formatted.append(f\"{'-' if self.j < 0 else '+'} {abs(self.j)}j\")\n",
        "        # in this conditional expression, add - if the value is negative otherwise +\n",
        "        # abs(): A built-in Python function that returns the absolute value of a number. This means it strips away the sign and returns the positive magnitude of self.j.\n",
        "        # means no matter it is positive or negative, it will return only the value without any signs\n",
        "\n",
        "        formatted.append(f\"{'-' if self.k < 0 else '+'} {abs(self.k)}k\")\n",
        "        return ' '.join(formatted)\n",
        "\n",
        "# Example usage:\n",
        "v = Vector(3, 7, 2)\n",
        "print(v)\n",
        "\n",
        "w = Vector(1, 8, 6)\n",
        "print(w)\n",
        "\n",
        "print(\"Adding these two vectors we get:\")\n",
        "print(v + w)  # This will include the + signs\n",
        "\n",
        "print(\"Subtracting these two vectors we get:\")\n",
        "print(v - w)  # This will omit the + signs where not needed\n"
      ],
      "metadata": {
        "colab": {
          "base_uri": "https://localhost:8080/"
        },
        "id": "lCY3N1iKvcgY",
        "outputId": "c8887c27-c493-4ebb-8bf4-dbacc6fffa5e"
      },
      "execution_count": 5,
      "outputs": [
        {
          "output_type": "stream",
          "name": "stdout",
          "text": [
            "3i + 7j + 2k\n",
            "1i + 8j + 6k\n",
            "Adding these two vectors we get:\n",
            "4i + 15j + 8k\n",
            "Subtracting these two vectors we get:\n",
            "2i - 1j - 4k\n"
          ]
        }
      ]
    },
    {
      "cell_type": "code",
      "source": [
        "# lets add some more expressions for operator overlaoding\n",
        "\n",
        "class Vector:\n",
        "    def __init__(self, x, y):\n",
        "        self.x = x\n",
        "        self.y = y\n",
        "\n",
        "    def __add__(self, other):\n",
        "        return Vector(self.x + other.x, self.y + other.y)\n",
        "\n",
        "    def __sub__(self, other):\n",
        "        return Vector(self.x - other.x, self.y - other.y)\n",
        "\n",
        "    def __mul__(self, scalar):\n",
        "        return Vector(self.x * scalar, self.y * scalar)\n",
        "\n",
        "    def __truediv__(self, scalar):\n",
        "        return Vector(self.x / scalar, self.y / scalar)\n",
        "\n",
        "    def __floordiv__(self, scalar):\n",
        "        return Vector(self.x // scalar, self.y // scalar)\n",
        "\n",
        "    def __mod__(self, scalar):\n",
        "        return Vector(self.x % scalar, self.y % scalar)\n",
        "\n",
        "    def __pow__(self, exponent):\n",
        "        return Vector(self.x ** exponent, self.y ** exponent)\n",
        "\n",
        "    def __and__(self, other):\n",
        "        return Vector(self.x & other.x, self.y & other.y)\n",
        "\n",
        "    def __or__(self, other):\n",
        "        return Vector(self.x | other.x, self.y | other.y)\n",
        "\n",
        "    def __xor__(self, other):\n",
        "        return Vector(self.x ^ other.x, self.y ^ other.y)\n",
        "\n",
        "    def __lshift__(self, shifts):\n",
        "        return Vector(self.x << shifts, self.y << shifts)\n",
        "\n",
        "    def __rshift__(self, shifts):\n",
        "        return Vector(self.x >> shifts, self.y >> shifts)\n",
        "\n",
        "    def __eq__(self, other):\n",
        "        return self.x == other.x and self.y == other.y\n",
        "\n",
        "    def __ne__(self, other):\n",
        "        return not self.__eq__(other)\n",
        "\n",
        "    def __lt__(self, other):\n",
        "        return self.magnitude() < other.magnitude()\n",
        "\n",
        "    def magnitude(self):\n",
        "        return (self.x**2 + self.y**2) ** 0.5\n",
        "\n",
        "    def __repr__(self):\n",
        "        return f\"Vector({self.x}, {self.y})\"\n",
        "\n",
        "# Example usage:\n",
        "v1 = Vector(2, 3)\n",
        "v2 = Vector(1, 5)\n",
        "\n",
        "print(\"v1 + v2 =\", v1 + v2)  # Vector(3, 8)\n",
        "print(\"v1 - v2 =\", v1 - v2)  # Vector(1, -2)\n",
        "print(\"v1 * 3 =\", v1 * 3)    # Vector(6, 9)\n",
        "print(\"v1 / 2 =\", v1 / 2)    # Vector(1.0, 1.5)\n",
        "print(\"v1 == v2?\", v1 == v2) # False\n",
        "print(\"v1 < v2?\", v1 < v2)   # True based on magnitude\n",
        "\n",
        "\n",
        "'''\n",
        "Explanation:\n",
        "Initialization (__init__): Sets the x and y components of the vector.\n",
        "Addition (__add__): Defines how to add two Vector instances.\n",
        "Subtraction (__sub__): Defines how to subtract one Vector from another.\n",
        "Multiplication (__mul__): Multiplies the vector by a scalar.\n",
        "True Division (__truediv__): Divides the vector by a scalar.\n",
        "Floor Division (__floordiv__): Divides the vector by a scalar using floor division.\n",
        "Modulus (__mod__): Finds the modulus of each component with a scalar.\n",
        "Exponentiation (__pow__): Raises each component to the power of an exponent.\n",
        "Bitwise AND (__and__): Applies bitwise AND to each component.\n",
        "Bitwise OR (__or__): Applies bitwise OR to each component.\n",
        "Bitwise XOR (__xor__): Applies bitwise XOR to each component.\n",
        "Left Shift (__lshift__): Shifts the bits of each component to the left.\n",
        "Right Shift (__rshift__): Shifts the bits of each component to the right.\n",
        "Equality (__eq__): Compares two vectors for equality.\n",
        "Inequality (__ne__): Compares two vectors for inequality.\n",
        "Less Than (__lt__): Compares the magnitudes of two vectors.\n",
        "Magnitude (magnitude): Calculates the magnitude (length) of the vector.\n",
        "Representation (__repr__): Returns a string representation of the vector.\n",
        "'''"
      ],
      "metadata": {
        "colab": {
          "base_uri": "https://localhost:8080/"
        },
        "id": "3aVJ4A2Zwjnp",
        "outputId": "4341a834-f02b-46c0-949c-130819be30db"
      },
      "execution_count": 6,
      "outputs": [
        {
          "output_type": "stream",
          "name": "stdout",
          "text": [
            "v1 + v2 = Vector(3, 8)\n",
            "v1 - v2 = Vector(1, -2)\n",
            "v1 * 3 = Vector(6, 9)\n",
            "v1 / 2 = Vector(1.0, 1.5)\n",
            "v1 == v2? False\n",
            "v1 < v2? True\n"
          ]
        }
      ]
    }
  ]
}