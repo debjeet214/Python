{
  "nbformat": 4,
  "nbformat_minor": 0,
  "metadata": {
    "colab": {
      "provenance": [],
      "authorship_tag": "ABX9TyOJQczM5A1uWk8Q+YQgN8L2",
      "include_colab_link": true
    },
    "kernelspec": {
      "name": "python3",
      "display_name": "Python 3"
    },
    "language_info": {
      "name": "python"
    }
  },
  "cells": [
    {
      "cell_type": "markdown",
      "metadata": {
        "id": "view-in-github",
        "colab_type": "text"
      },
      "source": [
        "<a href=\"https://colab.research.google.com/github/debjeet214/Python/blob/main/Functions.ipynb\" target=\"_parent\"><img src=\"https://colab.research.google.com/assets/colab-badge.svg\" alt=\"Open In Colab\"/></a>"
      ]
    },
    {
      "cell_type": "code",
      "source": [
        "def calculate(num1, num2, opt):\n",
        "  a = num1\n",
        "  b = num2\n",
        "  if opt == \"+\" or opt == \"add\" or opt ==\"sum\":\n",
        "    print(a+b)\n",
        "  elif opt == \"-\":\n",
        "    print(a-b)\n",
        "  elif opt == \"*\" or opt == \"multiply\":\n",
        "    print(a*b)\n",
        "  elif opt == \"/\" or opt == \"division\":\n",
        "    print(a/b)\n",
        "\n",
        "calculate(12, 21, 'sum')\n",
        "calculate(12, 33, '-')\n",
        "calculate(12, 12, '*')\n",
        "calculate(48622, 4, '/')"
      ],
      "metadata": {
        "colab": {
          "base_uri": "https://localhost:8080/"
        },
        "id": "TYcdIamVzSoc",
        "outputId": "6be82ff9-e0ac-47d0-9552-40a869f3f47f"
      },
      "execution_count": 10,
      "outputs": [
        {
          "output_type": "stream",
          "name": "stdout",
          "text": [
            "33\n",
            "-21\n",
            "144\n",
            "12155.5\n"
          ]
        }
      ]
    },
    {
      "cell_type": "markdown",
      "source": [],
      "metadata": {
        "id": "VTrafMHD0wsh"
      }
    },
    {
      "cell_type": "code",
      "source": [
        "def calculate(num1, num2, opt = '-'):\n",
        "  a = num1\n",
        "  b = num2\n",
        "  if opt == \"+\" or opt == \"add\" or opt ==\"sum\":\n",
        "    print(a+b)\n",
        "  elif opt == \"-\":\n",
        "    print(a-b)\n",
        "  elif opt == \"*\" or opt == \"multiply\":\n",
        "    print(a*b)\n",
        "  elif opt == \"/\" or opt == \"division\":\n",
        "    print(a//b)        # it will result a integer o/p only\n",
        "\n",
        "calculate(12, 21, 'sum')\n",
        "calculate(12, 33)         # default value of the opt will be executed here.\n",
        "calculate(12, 12, '*')\n",
        "calculate(48622, 4, opt = 'division') # sometimes where there is multiple parameters to pass, it's best to mention for which"
      ],
      "metadata": {
        "colab": {
          "base_uri": "https://localhost:8080/"
        },
        "outputId": "7cac6a86-8a4d-4d8a-e061-80d8869a81bf",
        "id": "t3QR08ZS0lwK"
      },
      "execution_count": 11,
      "outputs": [
        {
          "output_type": "stream",
          "name": "stdout",
          "text": [
            "33\n",
            "-21\n",
            "144\n",
            "12155.5\n"
          ]
        }
      ]
    },
    {
      "cell_type": "code",
      "source": [
        "# *args parameter\n",
        "\n",
        "def show_args(args):\n",
        "  print(args)\n",
        "\n",
        "show_args(1, 4, 21, 7)\n",
        "\n",
        "# this above code will show error - TypeError: show_args() takes 1 positional argument but 4 were given\n",
        "# to fix this we use *args as the parameter where the arguments passed will create a tuple.\n",
        "\n",
        "def show_args(*args):\n",
        "  print(args)\n",
        "\n",
        "show_args(1, 4, 21, 7)     # o/p --> (1, 4, 21, 7)\n"
      ],
      "metadata": {
        "colab": {
          "base_uri": "https://localhost:8080/"
        },
        "id": "OzFosErQ1ooe",
        "outputId": "bc8eea89-14fd-4db1-d0a4-a03fc99f1d61"
      },
      "execution_count": 14,
      "outputs": [
        {
          "output_type": "stream",
          "name": "stdout",
          "text": [
            "(1, 4, 21, 7)\n"
          ]
        }
      ]
    },
    {
      "cell_type": "code",
      "source": [
        "# **kwargs --> this helps to add keyword arguments\n",
        "import math\n",
        "def show_args(*args, **kwargs):\n",
        "  print(args)\n",
        "  print(kwargs)\n",
        "\n",
        "show_args(1, 4, 21, 7, operation = \"add\")\n",
        "\n",
        "# do the operation now\n",
        "def show_args(*args, operation):\n",
        "  if operation == 'sum':\n",
        "    return sum(args)\n",
        "  elif operation == 'multiply':\n",
        "    return math.prod(args)\n",
        "\n",
        "print(show_args(1, 4, 21, 7, operation = \"sum\"))\n"
      ],
      "metadata": {
        "colab": {
          "base_uri": "https://localhost:8080/"
        },
        "id": "_svFycAR3HSP",
        "outputId": "a65323f9-add4-4f24-e8bc-ef30733b2343"
      },
      "execution_count": 20,
      "outputs": [
        {
          "output_type": "stream",
          "name": "stdout",
          "text": [
            "(1, 4, 21, 7)\n",
            "{'operation': 'add'}\n",
            "33\n"
          ]
        }
      ]
    },
    {
      "cell_type": "code",
      "source": [
        "# accessing all the variables & parameters in the functions\n",
        "# Locals Functions\n",
        "\n",
        "def local_func(num1, num2, opt = \"add\"):\n",
        "  print(locals())\n",
        "\n",
        "local_func(1, 2)  # using LOCALS function now it will return a dictionary with parameters and values as key\n",
        "\n",
        "# globals() function will return all the functions used in the opython program\n",
        "globals()"
      ],
      "metadata": {
        "colab": {
          "base_uri": "https://localhost:8080/"
        },
        "id": "OskAO6uAAHXF",
        "outputId": "659dd89c-352f-4e97-be84-e497b6c7f14a"
      },
      "execution_count": 22,
      "outputs": [
        {
          "output_type": "stream",
          "name": "stdout",
          "text": [
            "{'num1': 1, 'num2': 2, 'opt': 'add'}\n"
          ]
        },
        {
          "output_type": "execute_result",
          "data": {
            "text/plain": [
              "{'__name__': '__main__',\n",
              " '__doc__': 'Automatically created module for IPython interactive environment',\n",
              " '__package__': None,\n",
              " '__loader__': None,\n",
              " '__spec__': None,\n",
              " '__builtin__': <module 'builtins' (built-in)>,\n",
              " '__builtins__': <module 'builtins' (built-in)>,\n",
              " '_ih': ['',\n",
              "  'def caculate(num1, num2, opt):\\n  a = num1\\n  b = num2\\n  if opt == \"+\" or opt == \"add\" or opt ==\"sum\":\\n    print(a+b)\\n  elif opt == \"-\" or \"substraction\":\\n    print(a+b)\\n  elif opt == \"*\" or opt == \"multiply\":\\n    print(a+b)\\n  elif opt == \"/\" or opt == \"division\":\\n    print(a+b)\\n\\ncalculate(12, 21, \\'sum\\')\\ncalculate(12, 33, \\'substraction\\')\\ncalculate(12, 12, \\'multiply\\')\\ncalculate(48622, 4, \\'division\\')',\n",
              "  'def calculate(num1, num2, opt):\\n  a = num1\\n  b = num2\\n  if opt == \"+\" or opt == \"add\" or opt ==\"sum\":\\n    print(a+b)\\n  elif opt == \"-\" or \"substraction\":\\n    print(a+b)\\n  elif opt == \"*\" or opt == \"multiply\":\\n    print(a+b)\\n  elif opt == \"/\" or opt == \"division\":\\n    print(a+b)\\n\\ncalculate(12, 21, \\'sum\\')\\ncalculate(12, 33, \\'substraction\\')\\ncalculate(12, 12, \\'multiply\\')\\ncalculate(48622, 4, \\'division\\')',\n",
              "  'def calculate(num1, num2, opt):\\n  a = num1\\n  b = num2\\n  if opt == \"+\" or opt == \"add\" or opt ==\"sum\":\\n    print(a+b)\\n  elif opt == \"-\" or \"substraction\":\\n    print(a-b)\\n  elif opt == \"*\" or opt == \"multiply\":\\n    print(a*b)\\n  elif opt == \"/\" or opt == \"division\":\\n    print(a/b)\\n\\ncalculate(12, 21, \\'sum\\')\\ncalculate(12, 33, \\'substraction\\')\\ncalculate(12, 12, \\'multiply\\')\\ncalculate(48622, 4, \\'division\\')',\n",
              "  'def calculate(num1, num2, opt):\\n  a = num1\\n  b = num2\\n  if opt == \"+\" or opt == \"add\" or opt ==\"sum\":\\n    print(a+b)\\n  elif opt == \"-\" or \"substraction\":\\n    print(a-b)\\n  elif opt == \"*\" or opt == \"multiply\":\\n    print(a*b)\\n  elif opt == \"/\" or opt == \"division\":\\n    print(a/b)\\n\\ncalculate(12, 21, \\'sum\\')\\ncalculate(12, 33, \\'substraction\\')\\ncalculate(12, 12, \\'multiply\\')\\ncalculate(48622, 4, \\'division\\')',\n",
              "  'def calculate(num1, num2, opt):\\n  a = num1\\n  b = num2\\n  if opt == \"+\" or opt == \"add\" or opt ==\"sum\":\\n    print(a+b)\\n  elif opt == \"-\" or \"substraction\":\\n    print(a-b)\\n  elif opt == \"*\" or opt == \"multiply\":\\n    print(a * b)\\n  elif opt == \"/\" or opt == \"division\":\\n    print(a/b)\\n\\ncalculate(12, 21, \\'sum\\')\\ncalculate(12, 33, \\'substraction\\')\\ncalculate(12, 12, \\'multiply\\')\\ncalculate(48622, 4, \\'division\\')',\n",
              "  'def calculate(num1, num2, opt):\\n  a = num1\\n  b = num2\\n  if opt == \"+\" or opt == \"add\" or opt ==\"sum\":\\n    print(a+b)\\n  elif opt == \"-\" or \"substraction\":\\n    print(a-b)\\n  elif opt == \"*\" or opt == \"multiply\":\\n    print(a * b)\\n  elif opt == \"/\" or opt == \"division\":\\n    print(a/b)\\n\\ncalculate(12, 21, \\'sum\\')\\ncalculate(12, 33, \\'-\\')\\ncalculate(12, 12, \\'*\\')\\ncalculate(48622, 4, \\'/\\')',\n",
              "  'def calculate(num1, num2, opt):\\n  a = num1\\n  b = num2\\n  if opt == \"+\" or opt == \"add\" or opt ==\"sum\":\\n    print(a+b)\\n  elif opt == \"-\" or \"substraction\":\\n    print(a-b)\\n  elif opt == \"*\" or opt == \"multiply\":\\n    print()\\n  elif opt == \"/\" or opt == \"division\":\\n    print()\\n\\ncalculate(12, 21, \\'sum\\')\\ncalculate(12, 33, \\'-\\')\\ncalculate(12, 12, \\'*\\')\\ncalculate(48622, 4, \\'/\\')',\n",
              "  'def calculate(num1, num2, opt):\\n  a = num1\\n  b = num2\\n  if opt == \"+\" or opt == \"add\" or opt ==\"sum\":\\n    print(a+b)\\n  elif opt == \"-\" or \"substraction\":\\n    print(a-b)\\n  elif opt == \"*\" or opt == \"multiply\":\\n    print(a*b)\\n  elif opt == \"/\" or opt == \"division\":\\n    print(a/b)\\n\\ncalculate(12, 21, \\'sum\\')\\ncalculate(12, 33, \\'-\\')\\ncalculate(12, 12, \\'*\\')\\ncalculate(48622, 4, \\'/\\')',\n",
              "  'def calculate(num1, num2, opt):\\n  a = num1\\n  b = num2\\n  if opt == \"+\" or opt == \"add\" or opt ==\"sum\":\\n    print(a+b)\\n  elif opt == \"-\" or \"substraction\":\\n    print(a-b)\\n  elif opt == \"*\" or opt == \"multiply\":\\n    print(a*b)\\n  elif opt == \"/\" or opt == \"division\":\\n    print(a/b)\\n\\ncalculate(12, 21, \\'sum\\')\\ncalculate(12, 33, \\'-\\')\\ncalculate(12, 12, \\'*\\')\\ncalculate(48622, 4, \\'/\\')',\n",
              "  'def calculate(num1, num2, opt):\\n  a = num1\\n  b = num2\\n  if opt == \"+\" or opt == \"add\" or opt ==\"sum\":\\n    print(a+b)\\n  elif opt == \"-\":\\n    print(a-b)\\n  elif opt == \"*\" or opt == \"multiply\":\\n    print(a*b)\\n  elif opt == \"/\" or opt == \"division\":\\n    print(a/b)\\n\\ncalculate(12, 21, \\'sum\\')\\ncalculate(12, 33, \\'-\\')\\ncalculate(12, 12, \\'*\\')\\ncalculate(48622, 4, \\'/\\')',\n",
              "  'def calculate(num1, num2, opt = \\'-\\'):\\n  a = num1\\n  b = num2\\n  if opt == \"+\" or opt == \"add\" or opt ==\"sum\":\\n    print(a+b)\\n  elif opt == \"-\":\\n    print(a-b)\\n  elif opt == \"*\" or opt == \"multiply\":\\n    print(a*b)\\n  elif opt == \"/\" or opt == \"division\":\\n    print(a/b)\\n\\ncalculate(12, 21, \\'sum\\')\\ncalculate(12, 33)         # default value of the opt will be executed here.\\ncalculate(12, 12, \\'*\\')\\ncalculate(48622, 4, opt = \\'division\\')',\n",
              "  '# *args parameter\\n\\ndef show_args(args):\\n  print(args)\\n\\nshow_args(1, 4, 21, 7)',\n",
              "  '# *args parameter\\n\\ndef show_args(args):\\n  print(args)\\n\\nshow_args(1, 4, 21, 7)\\n\\n# this above code will show error - TypeError: show_args() takes 1 positional argument but 4 were given\\n\\n# to fix this we use *args as the parameter where the arguments passed will create a tuple./\\ndef show_args(*args):\\n  print(args)\\n\\nshow_args(1, 4, 21, 7)',\n",
              "  '# *args parameter\\n\\n# def show_args(args):\\n#   print(args)\\n\\n# show_args(1, 4, 21, 7)\\n\\n# this above code will show error - TypeError: show_args() takes 1 positional argument but 4 were given\\n\\n# to fix this we use *args as the parameter where the arguments passed will create a tuple./\\ndef show_args(*args):\\n  print(args)\\n\\nshow_args(1, 4, 21, 7)',\n",
              "  '# **kwargs --> this helps to add keyword arguments\\n\\ndef show_args(*args, **kwargs):\\n  print(args)\\n  print(kwargs)\\n\\nshow_args(1, 4, 21, 7, operation = \"fuck\")',\n",
              "  '# **kwargs --> this helps to add keyword arguments\\n\\ndef show_args(*args, **kwargs):\\n  print(args)\\n  print(kwargs)\\n\\nshow_args(1, 4, 21, 7, operation = \"add\")',\n",
              "  '# **kwargs --> this helps to add keyword arguments\\nimport math\\ndef show_args(*args, **kwargs):\\n  print(args)\\n  print(kwargs)\\n\\nshow_args(1, 4, 21, 7, operation = \"add\")\\n\\n# do the operation now\\ndef show_args(*args, operation):\\n  if operation == \\'sum\\':\\n    return sum(args)\\n  elif operation == \\'multiply\\':\\n    return math.prod(args)\\n\\nshow_args(1, 4, 21, 7, operation = \"add\")',\n",
              "  '# **kwargs --> this helps to add keyword arguments\\nimport math\\ndef show_args(*args, **kwargs):\\n  print(args)\\n  print(kwargs)\\n\\nshow_args(1, 4, 21, 7, operation = \"add\")\\n\\n# do the operation now\\ndef show_args(*args, operation):\\n  if operation == \\'sum\\':\\n    return sum(args)\\n  elif operation == \\'multiply\\':\\n    return math.prod(args)\\n\\nprint(show_args(1, 4, 21, 7, operation = \"add\"))',\n",
              "  '# **kwargs --> this helps to add keyword arguments\\nimport math\\ndef show_args(*args, **kwargs):\\n  print(args)\\n  print(kwargs)\\n\\nshow_args(1, 4, 21, 7, operation = \"add\")\\n\\n# do the operation now\\ndef show_args(*args, operation):\\n  if operation == \\'sum\\':\\n    return sum(args)\\n  elif operation == \\'multiply\\':\\n    return math.prod(args)\\n\\nprint(show_args(1, 4, 21, 7, operation = \"asumd\"))',\n",
              "  '# **kwargs --> this helps to add keyword arguments\\nimport math\\ndef show_args(*args, **kwargs):\\n  print(args)\\n  print(kwargs)\\n\\nshow_args(1, 4, 21, 7, operation = \"add\")\\n\\n# do the operation now\\ndef show_args(*args, operation):\\n  if operation == \\'sum\\':\\n    return sum(args)\\n  elif operation == \\'multiply\\':\\n    return math.prod(args)\\n\\nprint(show_args(1, 4, 21, 7, operation = \"sum\"))',\n",
              "  '# accessing all the variables & parameters in the functions \\n# Locals Functions\\n\\ndef local_func(num1, num2, opt = \"add\"):\\n  print(locals())\\n\\nlocal_func(1, 2)',\n",
              "  '# accessing all the variables & parameters in the functions \\n# Locals Functions\\n\\ndef local_func(num1, num2, opt = \"add\"):\\n  print(locals())\\n\\nlocal_func(1, 2)  # using LOCALS function now it will return a dictionary with parameters and values as key\\n\\n# globals() function will return all the functions used in the opython program\\nglobals()'],\n",
              " '_oh': {},\n",
              " '_dh': ['/content'],\n",
              " 'In': ['',\n",
              "  'def caculate(num1, num2, opt):\\n  a = num1\\n  b = num2\\n  if opt == \"+\" or opt == \"add\" or opt ==\"sum\":\\n    print(a+b)\\n  elif opt == \"-\" or \"substraction\":\\n    print(a+b)\\n  elif opt == \"*\" or opt == \"multiply\":\\n    print(a+b)\\n  elif opt == \"/\" or opt == \"division\":\\n    print(a+b)\\n\\ncalculate(12, 21, \\'sum\\')\\ncalculate(12, 33, \\'substraction\\')\\ncalculate(12, 12, \\'multiply\\')\\ncalculate(48622, 4, \\'division\\')',\n",
              "  'def calculate(num1, num2, opt):\\n  a = num1\\n  b = num2\\n  if opt == \"+\" or opt == \"add\" or opt ==\"sum\":\\n    print(a+b)\\n  elif opt == \"-\" or \"substraction\":\\n    print(a+b)\\n  elif opt == \"*\" or opt == \"multiply\":\\n    print(a+b)\\n  elif opt == \"/\" or opt == \"division\":\\n    print(a+b)\\n\\ncalculate(12, 21, \\'sum\\')\\ncalculate(12, 33, \\'substraction\\')\\ncalculate(12, 12, \\'multiply\\')\\ncalculate(48622, 4, \\'division\\')',\n",
              "  'def calculate(num1, num2, opt):\\n  a = num1\\n  b = num2\\n  if opt == \"+\" or opt == \"add\" or opt ==\"sum\":\\n    print(a+b)\\n  elif opt == \"-\" or \"substraction\":\\n    print(a-b)\\n  elif opt == \"*\" or opt == \"multiply\":\\n    print(a*b)\\n  elif opt == \"/\" or opt == \"division\":\\n    print(a/b)\\n\\ncalculate(12, 21, \\'sum\\')\\ncalculate(12, 33, \\'substraction\\')\\ncalculate(12, 12, \\'multiply\\')\\ncalculate(48622, 4, \\'division\\')',\n",
              "  'def calculate(num1, num2, opt):\\n  a = num1\\n  b = num2\\n  if opt == \"+\" or opt == \"add\" or opt ==\"sum\":\\n    print(a+b)\\n  elif opt == \"-\" or \"substraction\":\\n    print(a-b)\\n  elif opt == \"*\" or opt == \"multiply\":\\n    print(a*b)\\n  elif opt == \"/\" or opt == \"division\":\\n    print(a/b)\\n\\ncalculate(12, 21, \\'sum\\')\\ncalculate(12, 33, \\'substraction\\')\\ncalculate(12, 12, \\'multiply\\')\\ncalculate(48622, 4, \\'division\\')',\n",
              "  'def calculate(num1, num2, opt):\\n  a = num1\\n  b = num2\\n  if opt == \"+\" or opt == \"add\" or opt ==\"sum\":\\n    print(a+b)\\n  elif opt == \"-\" or \"substraction\":\\n    print(a-b)\\n  elif opt == \"*\" or opt == \"multiply\":\\n    print(a * b)\\n  elif opt == \"/\" or opt == \"division\":\\n    print(a/b)\\n\\ncalculate(12, 21, \\'sum\\')\\ncalculate(12, 33, \\'substraction\\')\\ncalculate(12, 12, \\'multiply\\')\\ncalculate(48622, 4, \\'division\\')',\n",
              "  'def calculate(num1, num2, opt):\\n  a = num1\\n  b = num2\\n  if opt == \"+\" or opt == \"add\" or opt ==\"sum\":\\n    print(a+b)\\n  elif opt == \"-\" or \"substraction\":\\n    print(a-b)\\n  elif opt == \"*\" or opt == \"multiply\":\\n    print(a * b)\\n  elif opt == \"/\" or opt == \"division\":\\n    print(a/b)\\n\\ncalculate(12, 21, \\'sum\\')\\ncalculate(12, 33, \\'-\\')\\ncalculate(12, 12, \\'*\\')\\ncalculate(48622, 4, \\'/\\')',\n",
              "  'def calculate(num1, num2, opt):\\n  a = num1\\n  b = num2\\n  if opt == \"+\" or opt == \"add\" or opt ==\"sum\":\\n    print(a+b)\\n  elif opt == \"-\" or \"substraction\":\\n    print(a-b)\\n  elif opt == \"*\" or opt == \"multiply\":\\n    print()\\n  elif opt == \"/\" or opt == \"division\":\\n    print()\\n\\ncalculate(12, 21, \\'sum\\')\\ncalculate(12, 33, \\'-\\')\\ncalculate(12, 12, \\'*\\')\\ncalculate(48622, 4, \\'/\\')',\n",
              "  'def calculate(num1, num2, opt):\\n  a = num1\\n  b = num2\\n  if opt == \"+\" or opt == \"add\" or opt ==\"sum\":\\n    print(a+b)\\n  elif opt == \"-\" or \"substraction\":\\n    print(a-b)\\n  elif opt == \"*\" or opt == \"multiply\":\\n    print(a*b)\\n  elif opt == \"/\" or opt == \"division\":\\n    print(a/b)\\n\\ncalculate(12, 21, \\'sum\\')\\ncalculate(12, 33, \\'-\\')\\ncalculate(12, 12, \\'*\\')\\ncalculate(48622, 4, \\'/\\')',\n",
              "  'def calculate(num1, num2, opt):\\n  a = num1\\n  b = num2\\n  if opt == \"+\" or opt == \"add\" or opt ==\"sum\":\\n    print(a+b)\\n  elif opt == \"-\" or \"substraction\":\\n    print(a-b)\\n  elif opt == \"*\" or opt == \"multiply\":\\n    print(a*b)\\n  elif opt == \"/\" or opt == \"division\":\\n    print(a/b)\\n\\ncalculate(12, 21, \\'sum\\')\\ncalculate(12, 33, \\'-\\')\\ncalculate(12, 12, \\'*\\')\\ncalculate(48622, 4, \\'/\\')',\n",
              "  'def calculate(num1, num2, opt):\\n  a = num1\\n  b = num2\\n  if opt == \"+\" or opt == \"add\" or opt ==\"sum\":\\n    print(a+b)\\n  elif opt == \"-\":\\n    print(a-b)\\n  elif opt == \"*\" or opt == \"multiply\":\\n    print(a*b)\\n  elif opt == \"/\" or opt == \"division\":\\n    print(a/b)\\n\\ncalculate(12, 21, \\'sum\\')\\ncalculate(12, 33, \\'-\\')\\ncalculate(12, 12, \\'*\\')\\ncalculate(48622, 4, \\'/\\')',\n",
              "  'def calculate(num1, num2, opt = \\'-\\'):\\n  a = num1\\n  b = num2\\n  if opt == \"+\" or opt == \"add\" or opt ==\"sum\":\\n    print(a+b)\\n  elif opt == \"-\":\\n    print(a-b)\\n  elif opt == \"*\" or opt == \"multiply\":\\n    print(a*b)\\n  elif opt == \"/\" or opt == \"division\":\\n    print(a/b)\\n\\ncalculate(12, 21, \\'sum\\')\\ncalculate(12, 33)         # default value of the opt will be executed here.\\ncalculate(12, 12, \\'*\\')\\ncalculate(48622, 4, opt = \\'division\\')',\n",
              "  '# *args parameter\\n\\ndef show_args(args):\\n  print(args)\\n\\nshow_args(1, 4, 21, 7)',\n",
              "  '# *args parameter\\n\\ndef show_args(args):\\n  print(args)\\n\\nshow_args(1, 4, 21, 7)\\n\\n# this above code will show error - TypeError: show_args() takes 1 positional argument but 4 were given\\n\\n# to fix this we use *args as the parameter where the arguments passed will create a tuple./\\ndef show_args(*args):\\n  print(args)\\n\\nshow_args(1, 4, 21, 7)',\n",
              "  '# *args parameter\\n\\n# def show_args(args):\\n#   print(args)\\n\\n# show_args(1, 4, 21, 7)\\n\\n# this above code will show error - TypeError: show_args() takes 1 positional argument but 4 were given\\n\\n# to fix this we use *args as the parameter where the arguments passed will create a tuple./\\ndef show_args(*args):\\n  print(args)\\n\\nshow_args(1, 4, 21, 7)',\n",
              "  '# **kwargs --> this helps to add keyword arguments\\n\\ndef show_args(*args, **kwargs):\\n  print(args)\\n  print(kwargs)\\n\\nshow_args(1, 4, 21, 7, operation = \"fuck\")',\n",
              "  '# **kwargs --> this helps to add keyword arguments\\n\\ndef show_args(*args, **kwargs):\\n  print(args)\\n  print(kwargs)\\n\\nshow_args(1, 4, 21, 7, operation = \"add\")',\n",
              "  '# **kwargs --> this helps to add keyword arguments\\nimport math\\ndef show_args(*args, **kwargs):\\n  print(args)\\n  print(kwargs)\\n\\nshow_args(1, 4, 21, 7, operation = \"add\")\\n\\n# do the operation now\\ndef show_args(*args, operation):\\n  if operation == \\'sum\\':\\n    return sum(args)\\n  elif operation == \\'multiply\\':\\n    return math.prod(args)\\n\\nshow_args(1, 4, 21, 7, operation = \"add\")',\n",
              "  '# **kwargs --> this helps to add keyword arguments\\nimport math\\ndef show_args(*args, **kwargs):\\n  print(args)\\n  print(kwargs)\\n\\nshow_args(1, 4, 21, 7, operation = \"add\")\\n\\n# do the operation now\\ndef show_args(*args, operation):\\n  if operation == \\'sum\\':\\n    return sum(args)\\n  elif operation == \\'multiply\\':\\n    return math.prod(args)\\n\\nprint(show_args(1, 4, 21, 7, operation = \"add\"))',\n",
              "  '# **kwargs --> this helps to add keyword arguments\\nimport math\\ndef show_args(*args, **kwargs):\\n  print(args)\\n  print(kwargs)\\n\\nshow_args(1, 4, 21, 7, operation = \"add\")\\n\\n# do the operation now\\ndef show_args(*args, operation):\\n  if operation == \\'sum\\':\\n    return sum(args)\\n  elif operation == \\'multiply\\':\\n    return math.prod(args)\\n\\nprint(show_args(1, 4, 21, 7, operation = \"asumd\"))',\n",
              "  '# **kwargs --> this helps to add keyword arguments\\nimport math\\ndef show_args(*args, **kwargs):\\n  print(args)\\n  print(kwargs)\\n\\nshow_args(1, 4, 21, 7, operation = \"add\")\\n\\n# do the operation now\\ndef show_args(*args, operation):\\n  if operation == \\'sum\\':\\n    return sum(args)\\n  elif operation == \\'multiply\\':\\n    return math.prod(args)\\n\\nprint(show_args(1, 4, 21, 7, operation = \"sum\"))',\n",
              "  '# accessing all the variables & parameters in the functions \\n# Locals Functions\\n\\ndef local_func(num1, num2, opt = \"add\"):\\n  print(locals())\\n\\nlocal_func(1, 2)',\n",
              "  '# accessing all the variables & parameters in the functions \\n# Locals Functions\\n\\ndef local_func(num1, num2, opt = \"add\"):\\n  print(locals())\\n\\nlocal_func(1, 2)  # using LOCALS function now it will return a dictionary with parameters and values as key\\n\\n# globals() function will return all the functions used in the opython program\\nglobals()'],\n",
              " 'Out': {},\n",
              " 'get_ipython': <bound method InteractiveShell.get_ipython of <google.colab._shell.Shell object at 0x7f16a0f3cbb0>>,\n",
              " 'exit': <IPython.core.autocall.ZMQExitAutocall at 0x7f16a0f3d030>,\n",
              " 'quit': <IPython.core.autocall.ZMQExitAutocall at 0x7f16a0f3d030>,\n",
              " '_': '',\n",
              " '__': '',\n",
              " '___': '',\n",
              " '_i': '# accessing all the variables & parameters in the functions \\n# Locals Functions\\n\\ndef local_func(num1, num2, opt = \"add\"):\\n  print(locals())\\n\\nlocal_func(1, 2)',\n",
              " '_ii': '# **kwargs --> this helps to add keyword arguments\\nimport math\\ndef show_args(*args, **kwargs):\\n  print(args)\\n  print(kwargs)\\n\\nshow_args(1, 4, 21, 7, operation = \"add\")\\n\\n# do the operation now\\ndef show_args(*args, operation):\\n  if operation == \\'sum\\':\\n    return sum(args)\\n  elif operation == \\'multiply\\':\\n    return math.prod(args)\\n\\nprint(show_args(1, 4, 21, 7, operation = \"sum\"))',\n",
              " '_iii': '# **kwargs --> this helps to add keyword arguments\\nimport math\\ndef show_args(*args, **kwargs):\\n  print(args)\\n  print(kwargs)\\n\\nshow_args(1, 4, 21, 7, operation = \"add\")\\n\\n# do the operation now\\ndef show_args(*args, operation):\\n  if operation == \\'sum\\':\\n    return sum(args)\\n  elif operation == \\'multiply\\':\\n    return math.prod(args)\\n\\nprint(show_args(1, 4, 21, 7, operation = \"asumd\"))',\n",
              " '_i1': 'def caculate(num1, num2, opt):\\n  a = num1\\n  b = num2\\n  if opt == \"+\" or opt == \"add\" or opt ==\"sum\":\\n    print(a+b)\\n  elif opt == \"-\" or \"substraction\":\\n    print(a+b)\\n  elif opt == \"*\" or opt == \"multiply\":\\n    print(a+b)\\n  elif opt == \"/\" or opt == \"division\":\\n    print(a+b)\\n\\ncalculate(12, 21, \\'sum\\')\\ncalculate(12, 33, \\'substraction\\')\\ncalculate(12, 12, \\'multiply\\')\\ncalculate(48622, 4, \\'division\\')',\n",
              " 'caculate': <function __main__.caculate(num1, num2, opt)>,\n",
              " '_i2': 'def calculate(num1, num2, opt):\\n  a = num1\\n  b = num2\\n  if opt == \"+\" or opt == \"add\" or opt ==\"sum\":\\n    print(a+b)\\n  elif opt == \"-\" or \"substraction\":\\n    print(a+b)\\n  elif opt == \"*\" or opt == \"multiply\":\\n    print(a+b)\\n  elif opt == \"/\" or opt == \"division\":\\n    print(a+b)\\n\\ncalculate(12, 21, \\'sum\\')\\ncalculate(12, 33, \\'substraction\\')\\ncalculate(12, 12, \\'multiply\\')\\ncalculate(48622, 4, \\'division\\')',\n",
              " 'calculate': <function __main__.calculate(num1, num2, opt='-')>,\n",
              " '_i3': 'def calculate(num1, num2, opt):\\n  a = num1\\n  b = num2\\n  if opt == \"+\" or opt == \"add\" or opt ==\"sum\":\\n    print(a+b)\\n  elif opt == \"-\" or \"substraction\":\\n    print(a-b)\\n  elif opt == \"*\" or opt == \"multiply\":\\n    print(a*b)\\n  elif opt == \"/\" or opt == \"division\":\\n    print(a/b)\\n\\ncalculate(12, 21, \\'sum\\')\\ncalculate(12, 33, \\'substraction\\')\\ncalculate(12, 12, \\'multiply\\')\\ncalculate(48622, 4, \\'division\\')',\n",
              " '_i4': 'def calculate(num1, num2, opt):\\n  a = num1\\n  b = num2\\n  if opt == \"+\" or opt == \"add\" or opt ==\"sum\":\\n    print(a+b)\\n  elif opt == \"-\" or \"substraction\":\\n    print(a-b)\\n  elif opt == \"*\" or opt == \"multiply\":\\n    print(a*b)\\n  elif opt == \"/\" or opt == \"division\":\\n    print(a/b)\\n\\ncalculate(12, 21, \\'sum\\')\\ncalculate(12, 33, \\'substraction\\')\\ncalculate(12, 12, \\'multiply\\')\\ncalculate(48622, 4, \\'division\\')',\n",
              " '_i5': 'def calculate(num1, num2, opt):\\n  a = num1\\n  b = num2\\n  if opt == \"+\" or opt == \"add\" or opt ==\"sum\":\\n    print(a+b)\\n  elif opt == \"-\" or \"substraction\":\\n    print(a-b)\\n  elif opt == \"*\" or opt == \"multiply\":\\n    print(a * b)\\n  elif opt == \"/\" or opt == \"division\":\\n    print(a/b)\\n\\ncalculate(12, 21, \\'sum\\')\\ncalculate(12, 33, \\'substraction\\')\\ncalculate(12, 12, \\'multiply\\')\\ncalculate(48622, 4, \\'division\\')',\n",
              " '_i6': 'def calculate(num1, num2, opt):\\n  a = num1\\n  b = num2\\n  if opt == \"+\" or opt == \"add\" or opt ==\"sum\":\\n    print(a+b)\\n  elif opt == \"-\" or \"substraction\":\\n    print(a-b)\\n  elif opt == \"*\" or opt == \"multiply\":\\n    print(a * b)\\n  elif opt == \"/\" or opt == \"division\":\\n    print(a/b)\\n\\ncalculate(12, 21, \\'sum\\')\\ncalculate(12, 33, \\'-\\')\\ncalculate(12, 12, \\'*\\')\\ncalculate(48622, 4, \\'/\\')',\n",
              " '_i7': 'def calculate(num1, num2, opt):\\n  a = num1\\n  b = num2\\n  if opt == \"+\" or opt == \"add\" or opt ==\"sum\":\\n    print(a+b)\\n  elif opt == \"-\" or \"substraction\":\\n    print(a-b)\\n  elif opt == \"*\" or opt == \"multiply\":\\n    print()\\n  elif opt == \"/\" or opt == \"division\":\\n    print()\\n\\ncalculate(12, 21, \\'sum\\')\\ncalculate(12, 33, \\'-\\')\\ncalculate(12, 12, \\'*\\')\\ncalculate(48622, 4, \\'/\\')',\n",
              " '_i8': 'def calculate(num1, num2, opt):\\n  a = num1\\n  b = num2\\n  if opt == \"+\" or opt == \"add\" or opt ==\"sum\":\\n    print(a+b)\\n  elif opt == \"-\" or \"substraction\":\\n    print(a-b)\\n  elif opt == \"*\" or opt == \"multiply\":\\n    print(a*b)\\n  elif opt == \"/\" or opt == \"division\":\\n    print(a/b)\\n\\ncalculate(12, 21, \\'sum\\')\\ncalculate(12, 33, \\'-\\')\\ncalculate(12, 12, \\'*\\')\\ncalculate(48622, 4, \\'/\\')',\n",
              " '_i9': 'def calculate(num1, num2, opt):\\n  a = num1\\n  b = num2\\n  if opt == \"+\" or opt == \"add\" or opt ==\"sum\":\\n    print(a+b)\\n  elif opt == \"-\" or \"substraction\":\\n    print(a-b)\\n  elif opt == \"*\" or opt == \"multiply\":\\n    print(a*b)\\n  elif opt == \"/\" or opt == \"division\":\\n    print(a/b)\\n\\ncalculate(12, 21, \\'sum\\')\\ncalculate(12, 33, \\'-\\')\\ncalculate(12, 12, \\'*\\')\\ncalculate(48622, 4, \\'/\\')',\n",
              " '_i10': 'def calculate(num1, num2, opt):\\n  a = num1\\n  b = num2\\n  if opt == \"+\" or opt == \"add\" or opt ==\"sum\":\\n    print(a+b)\\n  elif opt == \"-\":\\n    print(a-b)\\n  elif opt == \"*\" or opt == \"multiply\":\\n    print(a*b)\\n  elif opt == \"/\" or opt == \"division\":\\n    print(a/b)\\n\\ncalculate(12, 21, \\'sum\\')\\ncalculate(12, 33, \\'-\\')\\ncalculate(12, 12, \\'*\\')\\ncalculate(48622, 4, \\'/\\')',\n",
              " '_i11': 'def calculate(num1, num2, opt = \\'-\\'):\\n  a = num1\\n  b = num2\\n  if opt == \"+\" or opt == \"add\" or opt ==\"sum\":\\n    print(a+b)\\n  elif opt == \"-\":\\n    print(a-b)\\n  elif opt == \"*\" or opt == \"multiply\":\\n    print(a*b)\\n  elif opt == \"/\" or opt == \"division\":\\n    print(a/b)\\n\\ncalculate(12, 21, \\'sum\\')\\ncalculate(12, 33)         # default value of the opt will be executed here.\\ncalculate(12, 12, \\'*\\')\\ncalculate(48622, 4, opt = \\'division\\')',\n",
              " '_i12': '# *args parameter\\n\\ndef show_args(args):\\n  print(args)\\n\\nshow_args(1, 4, 21, 7)',\n",
              " 'show_args': <function __main__.show_args(*args, operation)>,\n",
              " '_i13': '# *args parameter\\n\\ndef show_args(args):\\n  print(args)\\n\\nshow_args(1, 4, 21, 7)\\n\\n# this above code will show error - TypeError: show_args() takes 1 positional argument but 4 were given\\n\\n# to fix this we use *args as the parameter where the arguments passed will create a tuple./\\ndef show_args(*args):\\n  print(args)\\n\\nshow_args(1, 4, 21, 7)',\n",
              " '_i14': '# *args parameter\\n\\n# def show_args(args):\\n#   print(args)\\n\\n# show_args(1, 4, 21, 7)\\n\\n# this above code will show error - TypeError: show_args() takes 1 positional argument but 4 were given\\n\\n# to fix this we use *args as the parameter where the arguments passed will create a tuple./\\ndef show_args(*args):\\n  print(args)\\n\\nshow_args(1, 4, 21, 7)',\n",
              " '_i15': '# **kwargs --> this helps to add keyword arguments\\n\\ndef show_args(*args, **kwargs):\\n  print(args)\\n  print(kwargs)\\n\\nshow_args(1, 4, 21, 7, operation = \"fuck\")',\n",
              " '_i16': '# **kwargs --> this helps to add keyword arguments\\n\\ndef show_args(*args, **kwargs):\\n  print(args)\\n  print(kwargs)\\n\\nshow_args(1, 4, 21, 7, operation = \"add\")',\n",
              " '_i17': '# **kwargs --> this helps to add keyword arguments\\nimport math\\ndef show_args(*args, **kwargs):\\n  print(args)\\n  print(kwargs)\\n\\nshow_args(1, 4, 21, 7, operation = \"add\")\\n\\n# do the operation now\\ndef show_args(*args, operation):\\n  if operation == \\'sum\\':\\n    return sum(args)\\n  elif operation == \\'multiply\\':\\n    return math.prod(args)\\n\\nshow_args(1, 4, 21, 7, operation = \"add\")',\n",
              " 'math': <module 'math' (built-in)>,\n",
              " '_i18': '# **kwargs --> this helps to add keyword arguments\\nimport math\\ndef show_args(*args, **kwargs):\\n  print(args)\\n  print(kwargs)\\n\\nshow_args(1, 4, 21, 7, operation = \"add\")\\n\\n# do the operation now\\ndef show_args(*args, operation):\\n  if operation == \\'sum\\':\\n    return sum(args)\\n  elif operation == \\'multiply\\':\\n    return math.prod(args)\\n\\nprint(show_args(1, 4, 21, 7, operation = \"add\"))',\n",
              " '_i19': '# **kwargs --> this helps to add keyword arguments\\nimport math\\ndef show_args(*args, **kwargs):\\n  print(args)\\n  print(kwargs)\\n\\nshow_args(1, 4, 21, 7, operation = \"add\")\\n\\n# do the operation now\\ndef show_args(*args, operation):\\n  if operation == \\'sum\\':\\n    return sum(args)\\n  elif operation == \\'multiply\\':\\n    return math.prod(args)\\n\\nprint(show_args(1, 4, 21, 7, operation = \"asumd\"))',\n",
              " '_i20': '# **kwargs --> this helps to add keyword arguments\\nimport math\\ndef show_args(*args, **kwargs):\\n  print(args)\\n  print(kwargs)\\n\\nshow_args(1, 4, 21, 7, operation = \"add\")\\n\\n# do the operation now\\ndef show_args(*args, operation):\\n  if operation == \\'sum\\':\\n    return sum(args)\\n  elif operation == \\'multiply\\':\\n    return math.prod(args)\\n\\nprint(show_args(1, 4, 21, 7, operation = \"sum\"))',\n",
              " '_i21': '# accessing all the variables & parameters in the functions \\n# Locals Functions\\n\\ndef local_func(num1, num2, opt = \"add\"):\\n  print(locals())\\n\\nlocal_func(1, 2)',\n",
              " 'local_func': <function __main__.local_func(num1, num2, opt='add')>,\n",
              " '_i22': '# accessing all the variables & parameters in the functions \\n# Locals Functions\\n\\ndef local_func(num1, num2, opt = \"add\"):\\n  print(locals())\\n\\nlocal_func(1, 2)  # using LOCALS function now it will return a dictionary with parameters and values as key\\n\\n# globals() function will return all the functions used in the opython program\\nglobals()'}"
            ]
          },
          "metadata": {},
          "execution_count": 22
        }
      ]
    }
  ]
}
