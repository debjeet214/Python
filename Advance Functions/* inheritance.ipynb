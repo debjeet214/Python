{
  "nbformat": 4,
  "nbformat_minor": 0,
  "metadata": {
    "colab": {
      "provenance": [],
      "authorship_tag": "ABX9TyP+ebgI4gObVUihVZAyimxS",
      "include_colab_link": true
    },
    "kernelspec": {
      "name": "python3",
      "display_name": "Python 3"
    },
    "language_info": {
      "name": "python"
    }
  },
  "cells": [
    {
      "cell_type": "markdown",
      "metadata": {
        "id": "view-in-github",
        "colab_type": "text"
      },
      "source": [
        "<a href=\"https://colab.research.google.com/github/debjeet214/Python/blob/main/inheritance.ipynb\" target=\"_parent\"><img src=\"https://colab.research.google.com/assets/colab-badge.svg\" alt=\"Open In Colab\"/></a>"
      ]
    },
    {
      "cell_type": "code",
      "execution_count": null,
      "metadata": {
        "id": "xXew55VxKdAE",
        "colab": {
          "base_uri": "https://localhost:8080/"
        },
        "outputId": "b636c086-bf30-49ec-97e8-29b89c9cd5d5"
      },
      "outputs": [
        {
          "output_type": "stream",
          "name": "stdout",
          "text": [
            "the employee name of employer 203 is Jin Hyan. he got the salary of 70000\n",
            "the employee name of employer 221 is Taeyong. he got the salary of 100000\n",
            "the teacher Debjeet Ghosh is teaching Math\n",
            "the employee name of employer 154 is Debjeet Ghosh. he got the salary of 85000\n"
          ]
        }
      ],
      "source": [
        "# single inheritance\n",
        "# Single inheritance enables a derived class to inherit properties from a single parent class, thus enabling code reusability and the addition of new features to existing code.\n",
        "\n",
        "class Employee:\n",
        "    def __init__(self, name, id, city, salary):\n",
        "        self.name = name\n",
        "        self.id = id\n",
        "        self.city = city\n",
        "        self.salary = salary\n",
        "\n",
        "    def display(self):\n",
        "        print(f\"the employee name of employer {self.id} is {self.name}. he got the salary of {self.salary}\")\n",
        "\n",
        "class teachers(Employee):\n",
        "  def teaching(self, subject):\n",
        "    self.subject = subject\n",
        "    print(f\"the teacher {self.name} is teaching {self.subject}\")\n",
        "\n",
        "\n",
        "emp1 = Employee(\"Jin Hyan\", 203, \"Seoul\", 70000)\n",
        "emp1.display()\n",
        "\n",
        "emp2 = Employee(\"Taeyong\", 221, \"Seoul\", 100000)\n",
        "emp2.display()\n",
        "\n",
        "emp3 = teachers(\"Debjeet Ghosh\", 154, \"Seoul\", 85000)\n",
        "emp3.teaching(\"Math\")\n",
        "emp3.display()"
      ]
    },
    {
      "cell_type": "code",
      "source": [
        "# multiple inheritance\n",
        "# Multiple inheritance allows a class to inherit properties and methods from multiple parent classes, providing a way to combine functionalities from different sources.\n",
        "\n",
        "class Student:\n",
        "    def __init__(self, name, roll_no, gender):\n",
        "        self.name = name\n",
        "        self.roll_no = roll_no\n",
        "        self.gender = gender\n",
        "\n",
        "    def get_student_details(self):\n",
        "        print(\"Name:\", self.name)\n",
        "        print(\"Roll No:\", self.roll_no)\n",
        "        print(\"Gender:\", self.gender)\n",
        "\n",
        "class Marks:\n",
        "    def __init__(self, maths, physics, chemistry):\n",
        "        self.maths = maths\n",
        "        self.physics = physics\n",
        "        self.chemistry = chemistry\n",
        "\n",
        "    def get_marks(self):\n",
        "        print(\"Maths:\", self.maths)\n",
        "        print(\"Physics:\", self.physics)\n",
        "        print(\"Chemistry:\", self.chemistry)\n",
        "\n",
        "class Result(Student, Marks):\n",
        "    def __init__(self, name, roll_no, gender, maths, physics, chemistry):\n",
        "        Student.__init__(self, name, roll_no, gender)\n",
        "        Marks.__init__(self, maths, physics, chemistry)\n",
        "\n",
        "    def calculate_total(self):\n",
        "        total_marks = self.maths + self.physics + self.chemistry\n",
        "        print(\"Total Marks:\", total_marks)\n",
        "\n",
        "student1 = Result(\"Alice\", 101, \"Female\", 80, 75, 90)\n",
        "student1.get_student_details()\n",
        "student1.get_marks()\n",
        "student1.calculate_total()\n"
      ],
      "metadata": {
        "colab": {
          "base_uri": "https://localhost:8080/"
        },
        "id": "eUi8FcTsycec",
        "outputId": "824d30f6-f06b-4671-ce25-cbb5265fa6ff"
      },
      "execution_count": null,
      "outputs": [
        {
          "output_type": "stream",
          "name": "stdout",
          "text": [
            "Name: Alice\n",
            "Roll No: 101\n",
            "Gender: Female\n",
            "Maths: 80\n",
            "Physics: 75\n",
            "Chemistry: 90\n",
            "Total Marks: 245\n"
          ]
        }
      ]
    },
    {
      "cell_type": "code",
      "source": [
        "# multiple inheritance\n",
        "class employee :\n",
        "  def __init__(self, name, id, dept, company):\n",
        "    self.name = name\n",
        "    self.id = id\n",
        "    self.dept = dept\n",
        "    self.company = company\n",
        "\n",
        "  def show(self):\n",
        "    print(f\"the name of the employee is {self.name} and the id is {self.id} and the dept is {self.dept}\")\n",
        "    print(f\"{self.name} works in {self.company}\")\n",
        "\n",
        "class business_owner:\n",
        "  def __init__(self, name, field):\n",
        "    self.name = name\n",
        "    self.field = field\n",
        "\n",
        "  def show(self):\n",
        "    print(f\"{self.name} also owns a {self.field} here\")\n",
        "\n",
        "# here in this order, it first call the methods of class employee and then from business owner only\n",
        "class both(business_owner, employee):    # multiple inheritance\n",
        "  def __init__(self, name, id, dept, company, field ):\n",
        "    employee.__init__(self, name, id, dept, company)\n",
        "    business_owner.__init__(self, name, field)\n",
        "\n",
        "b = both(\"Aksatha\", 32671, \"HR\", \"TCS\", \"Chinese Resturant\")  # object\n",
        "\n",
        "b.show()            # Both has the show method but as emplopyee is called first, so the show method from it will be called only\n",
        "\n",
        "print(both.mro())   # mro (method resolution order) is the function thta shows at which order the class will call the methods inside the parent classes."
      ],
      "metadata": {
        "colab": {
          "base_uri": "https://localhost:8080/"
        },
        "id": "TNZzrxkd-U9J",
        "outputId": "7e8448ba-d383-4068-cf1b-4c802cd1cb17"
      },
      "execution_count": null,
      "outputs": [
        {
          "output_type": "stream",
          "name": "stdout",
          "text": [
            "Aksatha also owns a Chinese Resturant\n",
            "[<class '__main__.both'>, <class '__main__.business_owner'>, <class '__main__.employee'>, <class 'object'>]\n"
          ]
        }
      ]
    },
    {
      "cell_type": "code",
      "source": [
        "# When a class is derived in another class and this new class derived into another class then this level of case structure is called multilevel inheritance.\n",
        "\n",
        "class Grandfather:\n",
        "\n",
        "    def __init__(self, grandfathername):\n",
        "        self.grandfathername = grandfathername\n",
        "\n",
        "\n",
        "class Father(Grandfather):\n",
        "    def __init__(self, fathername, grandfathername):\n",
        "        self.fathername = fathername\n",
        "        Grandfather.__init__(self, grandfathername)\n",
        "class Son(Father):\n",
        "    def __init__(self, sonname, fathername, grandfathername):\n",
        "        self.sonname = sonname\n",
        "        Father.__init__(self, fathername, grandfathername)\n",
        "\n",
        "    def print_name(self):\n",
        "        print('Grandfather name :', self.grandfathername)\n",
        "        print(\"Father name :\", self.fathername)\n",
        "        print(\"Son name :\", self.sonname)\n",
        "s1 = Son('Prince', 'Rampal', 'Lal mani')\n",
        "print(s1.grandfathername)\n",
        "s1.print_name()"
      ],
      "metadata": {
        "colab": {
          "base_uri": "https://localhost:8080/"
        },
        "id": "u8Xr_FlDzLI5",
        "outputId": "9d1efa27-4b9b-45b0-b07d-c44927176cfe"
      },
      "execution_count": null,
      "outputs": [
        {
          "output_type": "stream",
          "name": "stdout",
          "text": [
            "Lal mani\n",
            "Grandfather name : Lal mani\n",
            "Father name : Rampal\n",
            "Son name : Prince\n"
          ]
        }
      ]
    },
    {
      "cell_type": "code",
      "source": [
        "# multilevel inheritance\n",
        "class Animal:\n",
        "    def __init__(self, name, species):\n",
        "        self.name = name\n",
        "        self.species = species\n",
        "\n",
        "    def show_details(self):\n",
        "        print(f\"Name: {self.name}\")\n",
        "        print(f\"Species: {self.species}\")\n",
        "\n",
        "class Dog(Animal):\n",
        "    def __init__(self, name, breed):\n",
        "        Animal.__init__(self, name, species=\"Dog\")\n",
        "        self.breed = breed\n",
        "\n",
        "    def show_details(self):\n",
        "        Animal.show_details(self)\n",
        "        print(f\"Breed: {self.breed}\")\n",
        "\n",
        "class GoldenRetriever(Dog):\n",
        "    def __init__(self, name, color):\n",
        "        Dog.__init__(self, name, breed=\"Golden Retriever\")\n",
        "        self.color = color\n",
        "\n",
        "    def show_details(self):\n",
        "        Dog.show_details(self)\n",
        "        print(f\"Color: {self.color}\")\n",
        "\n",
        "o = Dog(\"tommy\", \"Black\")\n",
        "o.show_details()\n",
        "print(GoldenRetriever.mro())"
      ],
      "metadata": {
        "id": "kLy_1qCre2lX"
      },
      "execution_count": null,
      "outputs": []
    },
    {
      "cell_type": "code",
      "source": [
        "# hierarchical inheritance\n",
        "\n",
        "class College:\n",
        "  def __init__(self, name, location):\n",
        "    self.name = name\n",
        "    self.location = location\n",
        "\n",
        "  def display_info(self):\n",
        "    print(f\"the name of the College is {self.name} which is in {self.location}\")\n",
        "\n",
        "class Department(College):\n",
        "  def __init__(self, name, location, dept_name, hod):\n",
        "    super().__init__(name, location)\n",
        "    self.dept_name = dept_name\n",
        "    self.hod = hod\n",
        "\n",
        "  def display_info(self):\n",
        "    super().display_info()\n",
        "    print(f\"Department: {self.dept_name}\")\n",
        "    print(f\"Head of Department: {self.hod}\")\n",
        "\n",
        "class Library(College):\n",
        "  def __init__(self, name, location, num_books, librarian):\n",
        "    super().__init__(name, location)\n",
        "    self.num_books = num_books\n",
        "    self.librarian = librarian\n",
        "\n",
        "  def display_info(self):\n",
        "    super().display_info()\n",
        "    print(f\"Number of Books: {self.num_books}\")\n",
        "    print(f\"Librarian: {self.librarian}\")\n",
        "\n",
        "class Student(College):\n",
        "  def __init__(self, name, location, student_id, major):\n",
        "    super().__init__(name, location)\n",
        "    self.student_id = student_id\n",
        "    self.major = major\n",
        "\n",
        "  def display_info(self):\n",
        "    super().display_info()\n",
        "    print(f\"Student ID: {self.student_id}\")\n",
        "    print(f\"Major: {self.major}\")\n",
        "\n",
        "class Employee(College):\n",
        "  def __init__(self, name, location, employee_id, department):\n",
        "    super().__init__(name, location)\n",
        "    self.employee_id = employee_id\n",
        "    self.department = department\n",
        "\n",
        "  def display_info(self):\n",
        "    super().display_info()\n",
        "    print(f\"Employee ID: {self.employee_id}\")\n",
        "    print(f\"Department: {self.department}\")\n",
        "\n",
        "# Example usage\n",
        "college = College(\"ABC College\", \"New York\")\n",
        "college.display_info()\n",
        "\n",
        "dept = Department(\"ABC College\", \"New York\", \"Computer Science\", \"Dr. Smith\")\n",
        "dept.display_info()\n",
        "\n",
        "library = Library(\"ABC College\", \"New York\", 10000, \"Ms. Jones\")\n",
        "library.display_info()\n",
        "\n",
        "student = Student(\"ABC College\", \"New York\", \"S12345\", \"Computer Science\")\n",
        "student.display_info()\n",
        "\n",
        "employee = Employee(\"ABC College\", \"New York\", \"E67890\", \"IT\")\n",
        "employee.display_info()\n"
      ],
      "metadata": {
        "colab": {
          "base_uri": "https://localhost:8080/"
        },
        "id": "uc3vSbqnznaA",
        "outputId": "4dcd4fa8-1477-4fc9-d140-1934f09d12c2"
      },
      "execution_count": null,
      "outputs": [
        {
          "output_type": "stream",
          "name": "stdout",
          "text": [
            "the name of the College is ABC College which is in New York\n",
            "the name of the College is ABC College which is in New York\n",
            "Department: Computer Science\n",
            "Head of Department: Dr. Smith\n",
            "the name of the College is ABC College which is in New York\n",
            "Number of Books: 10000\n",
            "Librarian: Ms. Jones\n",
            "the name of the College is ABC College which is in New York\n",
            "Student ID: S12345\n",
            "Major: Computer Science\n",
            "the name of the College is ABC College which is in New York\n",
            "Employee ID: E67890\n",
            "Department: IT\n"
          ]
        }
      ]
    },
    {
      "cell_type": "code",
      "source": [
        "class Student:\n",
        "    # constructor is defined\n",
        "    def __init__(self, age, name):\n",
        "        self.age = age               # public variable\n",
        "        self.name = name             # public variable\n",
        "\n",
        "obj = Student(21,\"Harry\")\n",
        "print(obj.age)\n",
        "print(obj.name)"
      ],
      "metadata": {
        "id": "sFdwYvQk8geL",
        "outputId": "acb9c9be-8685-411a-e4de-223870cf0564",
        "colab": {
          "base_uri": "https://localhost:8080/"
        }
      },
      "execution_count": null,
      "outputs": [
        {
          "output_type": "stream",
          "name": "stdout",
          "text": [
            "21\n",
            "Harry\n"
          ]
        }
      ]
    },
    {
      "cell_type": "code",
      "source": [
        "# heirarchical inheritance\n",
        "class shape:\n",
        "  def __init__(self, name, side_no):\n",
        "    self.name = name\n",
        "    self.side_no = side_no\n",
        "\n",
        "  def show(self):\n",
        "    print(f\"the name of the shape is {self.name} and the number of sides are {self.side_no}\")\n",
        "\n",
        "class rectangle(shape):\n",
        "  def __init__(self, name, side_no, length, width):\n",
        "    super().__init__(name, side_no)\n",
        "    self.length = length\n",
        "    self.width = width\n",
        "\n",
        "  def area(self):\n",
        "    area = self.length * self.width\n",
        "    print(f\"the area of the rectangle is {area}\")\n",
        "\n",
        "class triangle(shape):\n",
        "  def __init__(self, name, side_no, height, base):\n",
        "    super().__init__(name, side_no)\n",
        "    self.height = height\n",
        "    self.base = base\n",
        "\n",
        "  def area(self):\n",
        "    area = 1/2 * (self.base * self.height)\n",
        "    print(f\"the area of the triangle is {area}\")\n",
        "\n",
        "class circle(shape):\n",
        "  def __init__(self, name, side_no, radius):\n",
        "    super().__init__(name, side_no)\n",
        "    self.radius = radius\n",
        "\n",
        "  def area(self):\n",
        "    area = 3.14 * self.radius * self.radius\n",
        "    print(f\"the area of the circle is {area}\")\n",
        "\n",
        "c = circle(\"circle\", 0, 5)\n",
        "c.show()\n",
        "c.area()\n",
        "\n",
        "r = rectangle(\"rectangle\", 4, 5, 6)\n",
        "r.show()\n",
        "r.area()\n",
        "\n",
        "t = triangle(\"triangle\", 3, 5, 6)\n",
        "t.show()\n",
        "t.area()\n",
        "\n",
        "s = shape(\"pentagon\", 5)\n",
        "s.show()"
      ],
      "metadata": {
        "colab": {
          "base_uri": "https://localhost:8080/"
        },
        "id": "p0sj8A9-4Wsy",
        "outputId": "1413a939-cc41-481f-a713-09315e916d8a"
      },
      "execution_count": null,
      "outputs": [
        {
          "output_type": "stream",
          "name": "stdout",
          "text": [
            "the name of the shape is circle and the number of sides are 0\n",
            "the area of the circle is 78.5\n",
            "the name of the shape is rectangle and the number of sides are 4\n",
            "the area of the rectangle is 30\n",
            "the name of the shape is triangle and the number of sides are 3\n",
            "the area of the triangle is 15.0\n",
            "the name of the shape is pentagon and the number of sides are 5\n"
          ]
        }
      ]
    }
  ]
}
