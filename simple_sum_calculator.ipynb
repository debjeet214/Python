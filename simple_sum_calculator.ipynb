{
  "nbformat": 4,
  "nbformat_minor": 0,
  "metadata": {
    "colab": {
      "provenance": [],
      "authorship_tag": "ABX9TyPhzzkJfXIG31ZhbYI5FzTb",
      "include_colab_link": true
    },
    "kernelspec": {
      "name": "python3",
      "display_name": "Python 3"
    },
    "language_info": {
      "name": "python"
    }
  },
  "cells": [
    {
      "cell_type": "markdown",
      "metadata": {
        "id": "view-in-github",
        "colab_type": "text"
      },
      "source": [
        "<a href=\"https://colab.research.google.com/github/debjeet214/Python/blob/main/simple_sum_calculator.ipynb\" target=\"_parent\"><img src=\"https://colab.research.google.com/assets/colab-badge.svg\" alt=\"Open In Colab\"/></a>"
      ]
    },
    {
      "cell_type": "code",
      "execution_count": 2,
      "metadata": {
        "colab": {
          "base_uri": "https://localhost:8080/"
        },
        "id": "SLLGv_IVXv56",
        "outputId": "0945b993-3f2a-482f-f79b-f8e96cef7232"
      },
      "outputs": [
        {
          "output_type": "stream",
          "name": "stdout",
          "text": [
            "enter a number: 21\n",
            "enter the next number: 25\n",
            "the sunm of the two numbers are: \n",
            "46\n"
          ]
        }
      ],
      "source": [
        "num1 = input(\"enter a number: \")\n",
        "num2 = input(\"enter the next number: \")\n",
        "sum = int(num1) + int(num2)\n",
        "print(\"the sunm of the two numbers are: \")\n",
        "print(sum)"
      ]
    }
  ]
}