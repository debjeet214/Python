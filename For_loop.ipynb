{
  "nbformat": 4,
  "nbformat_minor": 0,
  "metadata": {
    "colab": {
      "provenance": [],
      "authorship_tag": "ABX9TyOg9pO+b2Wmi5K1CIOtvcBO",
      "include_colab_link": true
    },
    "kernelspec": {
      "name": "python3",
      "display_name": "Python 3"
    },
    "language_info": {
      "name": "python"
    }
  },
  "cells": [
    {
      "cell_type": "markdown",
      "metadata": {
        "id": "view-in-github",
        "colab_type": "text"
      },
      "source": [
        "<a href=\"https://colab.research.google.com/github/debjeet214/Python/blob/main/For_loop.ipynb\" target=\"_parent\"><img src=\"https://colab.research.google.com/assets/colab-badge.svg\" alt=\"Open In Colab\"/></a>"
      ]
    },
    {
      "cell_type": "code",
      "execution_count": 1,
      "metadata": {
        "colab": {
          "base_uri": "https://localhost:8080/"
        },
        "id": "QqXciJhaXIjV",
        "outputId": "412af6cd-56b4-4f9d-c34e-fa820a47805d"
      },
      "outputs": [
        {
          "output_type": "stream",
          "name": "stdout",
          "text": [
            " \n",
            "d\n",
            "e\n",
            "b\n",
            "o\n",
            "s\n",
            "m\n",
            "i\n",
            "t\n",
            "a\n"
          ]
        }
      ],
      "source": [
        "name = \" debosmita\"\n",
        "\n",
        "for characters in name:\n",
        "  print(characters)"
      ]
    },
    {
      "cell_type": "code",
      "source": [
        "marks_list = [\"debjeet\", \"Mitali\", \"Ankita\", \"Sourago\", \"Ditipriya\"]\n",
        "\n",
        "for names in marks_list:\n",
        "  print(\"\\n\")\n",
        "  if(names == \"Mitali\"):\n",
        "    print(names, \"You are my love babe.\")\n",
        "  for i in names:\n",
        "    print(i)"
      ],
      "metadata": {
        "colab": {
          "base_uri": "https://localhost:8080/"
        },
        "id": "xFVoM8wkYhz1",
        "outputId": "3d46bdcd-164f-49e2-f7b3-2ba0a5c3f647"
      },
      "execution_count": 4,
      "outputs": [
        {
          "output_type": "stream",
          "name": "stdout",
          "text": [
            "\n",
            "\n",
            "d\n",
            "e\n",
            "b\n",
            "j\n",
            "e\n",
            "e\n",
            "t\n",
            "\n",
            "\n",
            "Mitali You are my love babe.\n",
            "M\n",
            "i\n",
            "t\n",
            "a\n",
            "l\n",
            "i\n",
            "\n",
            "\n",
            "A\n",
            "n\n",
            "k\n",
            "i\n",
            "t\n",
            "a\n",
            "\n",
            "\n",
            "S\n",
            "o\n",
            "u\n",
            "r\n",
            "a\n",
            "g\n",
            "o\n",
            "\n",
            "\n",
            "D\n",
            "i\n",
            "t\n",
            "i\n",
            "p\n",
            "r\n",
            "i\n",
            "y\n",
            "a\n"
          ]
        }
      ]
    },
    {
      "cell_type": "code",
      "source": [
        "# range in the for loop\n",
        "\n",
        "for i in range(10):   # this will print from 0 to 9 total 10 times\n",
        "  print(i, end = ' ')\n",
        "\n",
        "print(\"\\n\")\n",
        "\n",
        "for j in range(5, 10):      # this will print from the given range here from 5 to 10-1\n",
        "  print(j, end = ' ')\n",
        "\n",
        "print(\"\\n\")\n",
        "\n",
        "for k in range(3, 12, 2):\n",
        "  print(k, end = ' ')"
      ],
      "metadata": {
        "colab": {
          "base_uri": "https://localhost:8080/"
        },
        "id": "lKXqRUpaZUc3",
        "outputId": "2c1bf57e-233f-427d-8c12-bce1c687b205"
      },
      "execution_count": 13,
      "outputs": [
        {
          "output_type": "stream",
          "name": "stdout",
          "text": [
            "0 1 2 3 4 5 6 7 8 9 \n",
            "\n",
            "5 6 7 8 9 \n",
            "\n",
            "3 5 7 9 11 "
          ]
        }
      ]
    }
  ]
}